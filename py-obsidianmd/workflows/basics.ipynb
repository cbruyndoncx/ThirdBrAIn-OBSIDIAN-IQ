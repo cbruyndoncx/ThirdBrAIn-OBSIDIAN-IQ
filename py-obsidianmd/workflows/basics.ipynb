{
 "cells": [
  {
   "cell_type": "markdown",
   "metadata": {},
   "source": [
    "# obsidian-utils  --  basic workflows"
   ]
  },
  {
   "cell_type": "code",
   "execution_count": null,
   "metadata": {},
   "outputs": [],
   "source": [
    "from pathlib import Path\n",
    "from pyomd.note import Note # type: ignore\n",
    "from pyomd.metadata import MetadataType # type: ignore\n",
    "path_note = Path('../test/0-test-data/notes/n4/n4.md')\n",
    "assert path_note.exists()"
   ]
  },
  {
   "cell_type": "code",
   "execution_count": null,
   "metadata": {},
   "outputs": [],
   "source": [
    "## create a python object that represents a note\n",
    "n = Note(path_note)\n",
    "n.print()"
   ]
  },
  {
   "cell_type": "code",
   "execution_count": null,
   "metadata": {},
   "outputs": [],
   "source": [
    "n.update_content()\n",
    "n.print()"
   ]
  },
  {
   "cell_type": "code",
   "execution_count": null,
   "metadata": {},
   "outputs": [],
   "source": [
    "## add metadata to the note and update the content\n",
    "n.metadata.add(k='tags', l=[\"type/fleeting\", \"status/pending\"], meta_type=MetadataType.INLINE)\n",
    "n.update_content()\n",
    "n.print()"
   ]
  },
  {
   "cell_type": "code",
   "execution_count": null,
   "metadata": {},
   "outputs": [],
   "source": [
    "# move metadata from frontmatter to inline\n",
    "n.metadata.move(k='tags', fr=MetadataType.FRONTMATTER, to=MetadataType.INLINE)\n",
    "n.update_content()\n",
    "n.print()"
   ]
  },
  {
   "cell_type": "code",
   "execution_count": null,
   "metadata": {},
   "outputs": [],
   "source": [
    "# remove duplicate values\n",
    "n.metadata.remove_duplicate_values()\n",
    "n.update_content()\n",
    "n.print()\n"
   ]
  },
  {
   "cell_type": "code",
   "execution_count": null,
   "metadata": {},
   "outputs": [],
   "source": [
    "# order keys and values\n",
    "n.metadata.order()\n",
    "n.update_content()\n",
    "n.print()"
   ]
  },
  {
   "cell_type": "code",
   "execution_count": null,
   "metadata": {},
   "outputs": [],
   "source": [
    "## remove metadata to the note\n",
    "n.metadata.remove(k='tags', l=[\"type/fleeting\"], meta_type=MetadataType.INLINE)\n",
    "n.update_content()\n",
    "n.print()"
   ]
  },
  {
   "cell_type": "code",
   "execution_count": null,
   "metadata": {},
   "outputs": [],
   "source": [
    "## write new content to the file\n",
    "# n.write()"
   ]
  }
 ],
 "metadata": {
  "kernelspec": {
   "display_name": "Python 3.10.6 ('py-obsidianmd-Kycs1_Zo-py3.10')",
   "language": "python",
   "name": "python3"
  },
  "language_info": {
   "codemirror_mode": {
    "name": "ipython",
    "version": 3
   },
   "file_extension": ".py",
   "mimetype": "text/x-python",
   "name": "python",
   "nbconvert_exporter": "python",
   "pygments_lexer": "ipython3",
   "version": "3.10.6"
  },
  "orig_nbformat": 4,
  "vscode": {
   "interpreter": {
    "hash": "3cfb651c4a04fe0bd691c3129fce6884280c9ee18e7d354973f51ceb6830d631"
   }
  }
 },
 "nbformat": 4,
 "nbformat_minor": 2
}
